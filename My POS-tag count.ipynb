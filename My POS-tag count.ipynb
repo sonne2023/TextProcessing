{
 "cells": [
  {
   "cell_type": "markdown",
   "metadata": {},
   "source": [
    "PartOfSpeach tag count"
   ]
  },
  {
   "cell_type": "code",
   "execution_count": 2,
   "metadata": {},
   "outputs": [
    {
     "name": "stderr",
     "output_type": "stream",
     "text": [
      "[nltk_data] Downloading package averaged_perceptron_tagger to\n",
      "[nltk_data]     C:\\Users\\Администратор\\AppData\\Roaming\\nltk_data...\n",
      "[nltk_data]   Package averaged_perceptron_tagger is already up-to-\n",
      "[nltk_data]       date!\n"
     ]
    }
   ],
   "source": [
    "import nltk\n",
    "nltk.download('averaged_perceptron_tagger')\n",
    "from nltk.tag import pos_tag_sents\n",
    "from nltk.tokenize import sent_tokenize, word_tokenize"
   ]
  },
  {
   "cell_type": "code",
   "execution_count": 3,
   "metadata": {},
   "outputs": [],
   "source": [
    "def my_text():\n",
    "    f = open('Text1.txt.','r')\n",
    "    t= f.read()\n",
    "    f.close()\n",
    "    return t"
   ]
  },
  {
   "cell_type": "code",
   "execution_count": 4,
   "metadata": {},
   "outputs": [],
   "source": [
    "str_text = str(my_text())"
   ]
  },
  {
   "cell_type": "code",
   "execution_count": 5,
   "metadata": {},
   "outputs": [],
   "source": [
    "text_tokens = [word_tokenize(t) for t in sent_tokenize(str_text)] "
   ]
  },
  {
   "cell_type": "code",
   "execution_count": 6,
   "metadata": {},
   "outputs": [],
   "source": [
    "text_tagged = pos_tag_sents(text_tokens)"
   ]
  },
  {
   "cell_type": "code",
   "execution_count": 8,
   "metadata": {},
   "outputs": [
    {
     "data": {
      "text/plain": [
       "[[('CANADIANISMS', 'NNP'),\n",
       "  ('AND', 'CC'),\n",
       "  ('THEIR', 'NNP'),\n",
       "  ('TREATMENT', 'NNP'),\n",
       "  ('IN', 'NNP'),\n",
       "  ('DICTIONARIES', 'NNP'),\n",
       "  ('by', 'IN'),\n",
       "  ('Sandra', 'NNP'),\n",
       "  ('Hamilton', 'NNP'),\n",
       "  ('School', 'NNP'),\n",
       "  ('of', 'IN'),\n",
       "  ('Translation', 'NNP'),\n",
       "  ('and', 'CC'),\n",
       "  ('Interpretation', 'NNP'),\n",
       "  ('University', 'NNP'),\n",
       "  ('of', 'IN'),\n",
       "  ('Ottawa', 'NNP'),\n",
       "  ('1997', 'CD'),\n",
       "  ('Chapter', 'NNP'),\n",
       "  ('2', 'CD'),\n",
       "  ('TYPES', 'NNP'),\n",
       "  ('OF', 'NNP'),\n",
       "  ('CANADIANISMS', 'NNP'),\n",
       "  ('The', 'DT'),\n",
       "  ('definition', 'NN'),\n",
       "  ('of', 'IN'),\n",
       "  ('Canadianism', 'NNP'),\n",
       "  ('provided', 'VBD'),\n",
       "  ('in', 'IN'),\n",
       "  ('the', 'DT'),\n",
       "  ('previous', 'JJ'),\n",
       "  ('chapter', 'NN'),\n",
       "  ('outlines', 'VBZ'),\n",
       "  ('a', 'DT'),\n",
       "  ('number', 'NN'),\n",
       "  ('of', 'IN'),\n",
       "  ('types', 'NNS'),\n",
       "  ('of', 'IN'),\n",
       "  ('Canadianisms', 'NNP'),\n",
       "  (':', ':'),\n",
       "  ('lexical', 'JJ'),\n",
       "  (',', ','),\n",
       "  ('grammatical', 'JJ'),\n",
       "  (',', ','),\n",
       "  ('orthographic', 'JJ'),\n",
       "  ('and', 'CC'),\n",
       "  ('phonetic', 'JJ'),\n",
       "  ('Canadianisms', 'NNP'),\n",
       "  ('.', '.')]]"
      ]
     },
     "execution_count": 8,
     "metadata": {},
     "output_type": "execute_result"
    }
   ],
   "source": [
    "text_tagged[:1]"
   ]
  },
  {
   "cell_type": "code",
   "execution_count": 50,
   "metadata": {},
   "outputs": [],
   "source": [
    "JJ_count = 0\n",
    "NN_count = 0 \n",
    "for t in text_tagged:     \n",
    "    for pair in t:          \n",
    "        tag = pair[1]          \n",
    "        if tag == 'JJ':              \n",
    "            JJ_count += 1\n",
    "        elif tag == 'NN':\n",
    "            NN_count += 1"
   ]
  },
  {
   "cell_type": "code",
   "execution_count": 51,
   "metadata": {},
   "outputs": [
    {
     "name": "stdout",
     "output_type": "stream",
     "text": [
      "Total number of adjectives =   629\n"
     ]
    }
   ],
   "source": [
    "print('Total number of adjectives =  ', JJ_count)"
   ]
  },
  {
   "cell_type": "code",
   "execution_count": 52,
   "metadata": {},
   "outputs": [
    {
     "name": "stdout",
     "output_type": "stream",
     "text": [
      "Total number of nouns =  1279\n"
     ]
    }
   ],
   "source": [
    "print('Total number of nouns = ', NN_count)"
   ]
  }
 ],
 "metadata": {
  "kernelspec": {
   "display_name": "Python 3",
   "language": "python",
   "name": "python3"
  },
  "language_info": {
   "codemirror_mode": {
    "name": "ipython",
    "version": 3
   },
   "file_extension": ".py",
   "mimetype": "text/x-python",
   "name": "python",
   "nbconvert_exporter": "python",
   "pygments_lexer": "ipython3",
   "version": "3.8.5"
  }
 },
 "nbformat": 4,
 "nbformat_minor": 4
}
