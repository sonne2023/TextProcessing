{
 "cells": [
  {
   "cell_type": "markdown",
   "metadata": {},
   "source": [
    "Intersection of words in three texts\n"
   ]
  },
  {
   "cell_type": "code",
   "execution_count": 123,
   "metadata": {},
   "outputs": [],
   "source": [
    "from nltk.tokenize import word_tokenize\n",
    "from nltk.corpus import stopwords\n",
    "from nltk.stem import WordNetLemmatizer\n",
    "import nltk\n",
    "from nltk import FreqDist"
   ]
  },
  {
   "cell_type": "code",
   "execution_count": 124,
   "metadata": {},
   "outputs": [],
   "source": [
    "stop_words = stopwords.words('english')"
   ]
  },
  {
   "cell_type": "code",
   "execution_count": 125,
   "metadata": {},
   "outputs": [],
   "source": [
    "lemmatizer = WordNetLemmatizer()"
   ]
  },
  {
   "cell_type": "code",
   "execution_count": 126,
   "metadata": {},
   "outputs": [],
   "source": [
    "def pipeline(text):\n",
    "    tokens = word_tokenize(text)\n",
    "    new_text = [w.lower() for w in tokens if w.isalpha() and w.casefold() not in stop_words]\n",
    "    new_list = [lemmatizer.lemmatize(l) for l in new_text]\n",
    "    dist_list = FreqDist(new_list)\n",
    "    return dist_list.most_common(15)"
   ]
  },
  {
   "cell_type": "code",
   "execution_count": 127,
   "metadata": {},
   "outputs": [],
   "source": [
    "essay1 = '''The 20th century made huge steps in developing computer technologies and reached many goals that made our life much easier. What should we expect in the 21st century?\n",
    "First of all, I think that the pace of our life will speed up: we will move faster from one place to another, from one continent to another using high speed jet airplanes. Second of all, I believe that we will be able to do many things that take much time now without leaving our house. Computers will be everywhere including out clothes. Many people will have chips and mini computers inserted in their heads to hold huge amount of information and have a quick access to it.\n",
    "But what will be the most amazing thing in the 21st century is the flights to the outer space and Mars that will be available to all people. Scientists say that Mars has many things similar to the Earth's. Moreover, they say that with the help of modern technology people can artificially create conditions that will allow people to live there on the constant basis.\n",
    "To sum up, I am sure that many amazing changes will be brought by the 21st century. Furthermore, I think that with the help of the contemporary technologies people can do many things that were even difficult to imagine a century ago. So, nowadays it is rather difficult and even impossible to imagine all changes that will happen in the next decades.'''"
   ]
  },
  {
   "cell_type": "code",
   "execution_count": 128,
   "metadata": {},
   "outputs": [],
   "source": [
    "essay2 = '''I think that everyone can divide all advertising products and services into useless ones and useful ones. It is like looking through an information desk when you pay attention to those messages that interest you. Take me for example.\n",
    "  Every day when I am watching TV, listening to the radio or reading the paper I notice many ads about getting an expensive ring, chain, necklace or ear-rings. From my point of view these kinds of advertising contaminate people's minds. In this case you are encouraged to buy things you do not really need. They make you believe you need such products in order to succeed or be happy. \n",
    "Some people think that advertisements of the new detergents with up-to-date formulas to help you maintain your cloth in perfect conditions, the new cars with some extra futures that make your traveling more comfortable and sports goods that make your life healthier may help you to improve your life. They believe that without advertisements we would be unaware about plenty of oppotunities that may make your life happier, easier and less stressful.\n",
    " My point is that every person has his own scale of values. So if he is vegetarian he will consider an ad about meat products useless for him.\n",
    "'''"
   ]
  },
  {
   "cell_type": "code",
   "execution_count": 129,
   "metadata": {},
   "outputs": [],
   "source": [
    "essay3 = '''Every country has its own culture and traditions. There is no doubt that an advertising campaign conducted in Russia will not have the same affect here in the United States.   Let us take for example advertisement of food and restaurants.  \n",
    "A huge amount of fast food stands suggest their services for breakfast, lunch, dinner and supper here in Houston. The competition is very strong. Every week you get in your mail-box an envelope with different types of discounts in exchange for visiting them or ordering pizza. Watching TV you are also from time to time invited to visit a restaurant in order to taste some delicious food.  It is not because it is easy to make money cooking but because the demand for such service is high. First of all, people like to go out sometimes to have dinner with friends. Second of all, it is often impossible to drive home for lunch. It can be time consuming. \n",
    "As for Russia, it is a great tradition to have dinner at home with the family and go to the restaurant for big holidays. Additionally fast food is not popular in Russia. So you will see advertisements of yogurts, coffee, dairy products and juice instead of  restaurants and fast food stands.\n",
    "In conclusion I would like to add that in order to succeed in advertising campaign especially on the international market company must know traditions, language and history of the country.\n",
    "'''"
   ]
  },
  {
   "cell_type": "code",
   "execution_count": 130,
   "metadata": {},
   "outputs": [],
   "source": [
    "t1 = pipeline(essay1)"
   ]
  },
  {
   "cell_type": "code",
   "execution_count": 131,
   "metadata": {},
   "outputs": [],
   "source": [
    "t2 = pipeline(essay2)"
   ]
  },
  {
   "cell_type": "code",
   "execution_count": 132,
   "metadata": {},
   "outputs": [],
   "source": [
    "t3 = pipeline(essay3)"
   ]
  },
  {
   "cell_type": "code",
   "execution_count": 133,
   "metadata": {},
   "outputs": [
    {
     "name": "stdout",
     "output_type": "stream",
     "text": [
      "('people', 5) ('people', 2)\n",
      "('life', 2) ('life', 3)\n",
      "('think', 2) ('think', 2)\n",
      "('one', 2) ('one', 2)\n"
     ]
    }
   ],
   "source": [
    "for x in t1:\n",
    "    for y in t2:\n",
    "        if x[0]==y[0]:\n",
    "            print(x, y)"
   ]
  },
  {
   "cell_type": "code",
   "execution_count": 134,
   "metadata": {},
   "outputs": [
    {
     "name": "stdout",
     "output_type": "stream",
     "text": [
      "('advertising', 2) ('advertising', 2)\n",
      "('every', 2) ('every', 2)\n",
      "('advertisement', 2) ('advertisement', 2)\n"
     ]
    }
   ],
   "source": [
    "for x in t2:\n",
    "    for y in t3:\n",
    "        if x[0]==y[0]:\n",
    "            print(x, y)"
   ]
  },
  {
   "cell_type": "code",
   "execution_count": 135,
   "metadata": {},
   "outputs": [],
   "source": [
    "def inter(a, b):\n",
    "    isFound = False\n",
    "    for x in a:\n",
    "        for y in b:\n",
    "            if x[0]==y[0]:\n",
    "                print(x, y)\n",
    "                isFound = True\n",
    "    if not isFound:\n",
    "        print('none')    "
   ]
  },
  {
   "cell_type": "code",
   "execution_count": 136,
   "metadata": {},
   "outputs": [
    {
     "name": "stdout",
     "output_type": "stream",
     "text": [
      "('people', 5) ('people', 2)\n",
      "('life', 2) ('life', 3)\n",
      "('think', 2) ('think', 2)\n",
      "('one', 2) ('one', 2)\n"
     ]
    }
   ],
   "source": [
    "inter(t1, t2)"
   ]
  },
  {
   "cell_type": "code",
   "execution_count": 137,
   "metadata": {},
   "outputs": [
    {
     "name": "stdout",
     "output_type": "stream",
     "text": [
      "none\n"
     ]
    }
   ],
   "source": [
    "inter(t1, t3)"
   ]
  },
  {
   "cell_type": "code",
   "execution_count": null,
   "metadata": {},
   "outputs": [],
   "source": []
  }
 ],
 "metadata": {
  "kernelspec": {
   "display_name": "Python 3",
   "language": "python",
   "name": "python3"
  },
  "language_info": {
   "codemirror_mode": {
    "name": "ipython",
    "version": 3
   },
   "file_extension": ".py",
   "mimetype": "text/x-python",
   "name": "python",
   "nbconvert_exporter": "python",
   "pygments_lexer": "ipython3",
   "version": "3.8.5"
  }
 },
 "nbformat": 4,
 "nbformat_minor": 4
}
